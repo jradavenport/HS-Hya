{
 "cells": [
  {
   "cell_type": "markdown",
   "metadata": {},
   "source": [
    "A few other considerations from the referee report, not included into edits of `makeplots`"
   ]
  },
  {
   "cell_type": "code",
   "execution_count": 1,
   "metadata": {},
   "outputs": [],
   "source": [
    "%matplotlib inline\n",
    "import numpy as np\n",
    "import pandas as pd\n",
    "import matplotlib.pyplot as plt\n",
    "from astropy.table import Table\n",
    "from astropy.time import Time\n",
    "from astropy.convolution import convolve, Box1DKernel, Gaussian1DKernel, Trapezoid1DKernel\n",
    "from scipy.optimize import curve_fit\n",
    "from astropy import constants as const\n",
    "import astropy.units as u"
   ]
  },
  {
   "cell_type": "code",
   "execution_count": 2,
   "metadata": {},
   "outputs": [],
   "source": [
    "import matplotlib\n",
    "matplotlib.rcParams.update({'font.size':18})\n",
    "matplotlib.rcParams.update({'font.family':'serif'})"
   ]
  },
  {
   "cell_type": "code",
   "execution_count": 3,
   "metadata": {},
   "outputs": [
    {
     "name": "stdout",
     "output_type": "stream",
     "text": [
      "0.37683575958514043\n"
     ]
    }
   ],
   "source": [
    "# the referee asked about RUWE, which is the goodness of fit of the photocenter\n",
    "# and note Stassun & Torres (2021) show a correlation w/ 3rd body motion!\n",
    "# https://ui.adsabs.harvard.edu/abs/2021ApJ...907L..33S\n",
    "\n",
    "gaia_RUWE = 2.3814187\n",
    "\n",
    "print(np.log10(gaia_RUWE))\n",
    "# this value is far above the \"nominal\" value of RUWE~1, meaning substantial photocenter motion"
   ]
  },
  {
   "cell_type": "code",
   "execution_count": 4,
   "metadata": {},
   "outputs": [
    {
     "name": "stdout",
     "output_type": "stream",
     "text": [
      "0.5837102545405091  [mas]\n"
     ]
    }
   ],
   "source": [
    "# If we use the correlation from S&T'21\n",
    "a_mas = 1.204 * np.log10(gaia_RUWE) + 0.13\n",
    "\n",
    "print(a_mas, ' [mas]')"
   ]
  },
  {
   "cell_type": "code",
   "execution_count": 5,
   "metadata": {},
   "outputs": [
    {
     "name": "stdout",
     "output_type": "stream",
     "text": [
      "102.70553457574417 6.603367510775912\n"
     ]
    }
   ],
   "source": [
    "plx = 9.736573633843571\n",
    "plx_err = 0.064294174\n",
    "\n",
    "# update to Gaia EDR3 values & add in the error to the text, b/c why not\n",
    "print(1000/plx, 1000*np.sqrt((plx_err/plx)**2) )"
   ]
  },
  {
   "cell_type": "code",
   "execution_count": 6,
   "metadata": {},
   "outputs": [
    {
     "name": "stdout",
     "output_type": "stream",
     "text": [
      "0.18910120135319636 mas\n"
     ]
    }
   ],
   "source": [
    "M1 = 1.247 * u.M_sun\n",
    "M2 = 1.2 * u.M_sun\n",
    "M3 = 0.51 * u.M_sun\n",
    "\n",
    "a13 = 34.1 * u.R_sun\n",
    "aa = np.arcsin(a13.to('cm') / (1000/plx * u.pc).to('cm')).to('mas')\n",
    "# print(aa)\n",
    "\n",
    "B = M3/((M1+M2)+M3) # maybe M1 should be M1+M2, since # goes around 1,2?\n",
    "beta = 0.05 # l3/((l1+l2)+l3) # the fractional luminosities...\n",
    "a_phot = aa * (B - beta)\n",
    "\n",
    "# very roughly the expected photocenter variation from AC:\n",
    "print(a_phot)"
   ]
  },
  {
   "cell_type": "code",
   "execution_count": null,
   "metadata": {},
   "outputs": [],
   "source": []
  },
  {
   "cell_type": "code",
   "execution_count": 7,
   "metadata": {},
   "outputs": [
    {
     "name": "stdout",
     "output_type": "stream",
     "text": [
      "0.04000000000000001\n"
     ]
    }
   ],
   "source": [
    "# very rough guess at eclipse depth if edge-on... spoiler: its fairly small for our data\n",
    "r3_r1 = 0.5 / (1.25*2)\n",
    "\n",
    "print(r3_r1**2)"
   ]
  },
  {
   "cell_type": "code",
   "execution_count": null,
   "metadata": {},
   "outputs": [],
   "source": []
  }
 ],
 "metadata": {
  "kernelspec": {
   "display_name": "Python 3",
   "language": "python",
   "name": "python3"
  },
  "language_info": {
   "codemirror_mode": {
    "name": "ipython",
    "version": 3
   },
   "file_extension": ".py",
   "mimetype": "text/x-python",
   "name": "python",
   "nbconvert_exporter": "python",
   "pygments_lexer": "ipython3",
   "version": "3.8.5"
  }
 },
 "nbformat": 4,
 "nbformat_minor": 4
}
