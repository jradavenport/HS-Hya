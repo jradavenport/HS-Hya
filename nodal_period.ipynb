{
 "cells": [
  {
   "cell_type": "code",
   "execution_count": 1,
   "metadata": {},
   "outputs": [],
   "source": [
    "%matplotlib inline\n",
    "import numpy as np\n",
    "import pandas as pd\n",
    "import matplotlib.pyplot as plt\n",
    "from astropy.time import Time\n",
    "from scipy.optimize import curve_fit"
   ]
  },
  {
   "cell_type": "code",
   "execution_count": 2,
   "metadata": {},
   "outputs": [],
   "source": [
    "import matplotlib\n",
    "matplotlib.rcParams.update({'font.size':18})\n",
    "matplotlib.rcParams.update({'font.family':'serif'})"
   ]
  },
  {
   "cell_type": "code",
   "execution_count": 3,
   "metadata": {},
   "outputs": [],
   "source": [
    "d_file = 'inclination_results.npz'"
   ]
  },
  {
   "cell_type": "code",
   "execution_count": 4,
   "metadata": {},
   "outputs": [],
   "source": [
    "b = np.load(d_file)"
   ]
  },
  {
   "cell_type": "code",
   "execution_count": 5,
   "metadata": {},
   "outputs": [
    {
     "data": {
      "text/plain": [
       "['crit_inc',\n",
       " 'all_labels',\n",
       " 'all_inclinations_err_minus',\n",
       " 'good_mask',\n",
       " 'all_inclinations_err_plus',\n",
       " 'all_jd',\n",
       " 'jd_offset',\n",
       " 'all_inclinations',\n",
       " 'all_jd_err']"
      ]
     },
     "execution_count": 5,
     "metadata": {},
     "output_type": "execute_result"
    }
   ],
   "source": [
    "b.files"
   ]
  },
  {
   "cell_type": "code",
   "execution_count": 6,
   "metadata": {},
   "outputs": [
    {
     "data": {
      "text/plain": [
       "array(1.24443358)"
      ]
     },
     "execution_count": 6,
     "metadata": {},
     "output_type": "execute_result"
    }
   ],
   "source": [
    "b['crit_inc']"
   ]
  },
  {
   "cell_type": "code",
   "execution_count": 7,
   "metadata": {},
   "outputs": [
    {
     "data": {
      "text/plain": [
       "array(2440000.)"
      ]
     },
     "execution_count": 7,
     "metadata": {},
     "output_type": "execute_result"
    }
   ],
   "source": [
    "b['jd_offset']"
   ]
  },
  {
   "cell_type": "code",
   "execution_count": 8,
   "metadata": {},
   "outputs": [
    {
     "name": "stderr",
     "output_type": "stream",
     "text": [
      "WARNING: ErfaWarning: ERFA function \"d2dtf\" yielded 6 of \"dubious year (Note 5)\" [astropy._erfa.core]\n",
      "WARNING: ErfaWarning: ERFA function \"dtf2d\" yielded 6 of \"dubious year (Note 6)\" [astropy._erfa.core]\n"
     ]
    }
   ],
   "source": [
    "years = Time(b['all_jd'] + b['jd_offset'], format='jd').to_value('decimalyear')\n",
    "incl = np.rad2deg(b['all_inclinations'])\n",
    "ierr = np.rad2deg(b['all_inclinations_err_plus'])\n",
    "\n",
    "# add extra error for first 2 epochs...\n",
    "ierr[0:2] = ierr[0:2] * 3."
   ]
  },
  {
   "cell_type": "code",
   "execution_count": 9,
   "metadata": {},
   "outputs": [],
   "source": [
    "# add approx datapoint from Strohmeier+1965 (as reported by Zasche+2012, Tbl1)\n",
    "years = np.append(years, 1964.)\n",
    "incl = np.append(incl, 88.9)\n",
    "ierr = np.append(ierr, 1.1)"
   ]
  },
  {
   "cell_type": "code",
   "execution_count": 10,
   "metadata": {},
   "outputs": [
    {
     "data": {
      "text/plain": [
       "Text(0, 0.5, 'incl (deg)')"
      ]
     },
     "execution_count": 10,
     "metadata": {},
     "output_type": "execute_result"
    },
    {
     "data": {
      "image/png": "[encoded data removed]",
      "text/plain": [
       "<Figure size 432x288 with 1 Axes>"
      ]
     },
     "metadata": {
      "needs_background": "light"
     },
     "output_type": "display_data"
    }
   ],
   "source": [
    "plt.errorbar(years, incl, yerr=ierr,\n",
    "             linestyle='none', marker='o')\n",
    "plt.plot([years.min(),years.max()], [np.rad2deg(b['crit_inc']), np.rad2deg(b['crit_inc'])], linestyle='--')\n",
    "plt.ylabel('incl (deg)')"
   ]
  },
  {
   "cell_type": "code",
   "execution_count": 11,
   "metadata": {},
   "outputs": [],
   "source": [
    "# OK, let's read papers and try to fit the nodal period!"
   ]
  },
  {
   "cell_type": "code",
   "execution_count": 12,
   "metadata": {},
   "outputs": [],
   "source": [
    "# here is the eqn being used to model nodal period in 3body system\n",
    "def Pmodel(t, c1, c2, t0, Pnodal):\n",
    "    # c1 == cos(I) x cos(i_1)\n",
    "    # c2 == sin(I) x sin(i_1)\n",
    "    cosi = c1 - c2*np.cos(2*np.pi * (t - t0) / Pnodal)\n",
    "    return cosi"
   ]
  },
  {
   "cell_type": "code",
   "execution_count": 13,
   "metadata": {},
   "outputs": [
    {
     "name": "stdout",
     "output_type": "stream",
     "text": [
      "[0.02, 0.6, 2434.25, 631.0]\n"
     ]
    },
    {
     "data": {
      "text/plain": [
       "[<matplotlib.lines.Line2D at 0x7f9e000d56d0>]"
      ]
     },
     "execution_count": 13,
     "metadata": {},
     "output_type": "execute_result"
    },
    {
     "data": {
      "image/png": "[encoded data removed]",
      "text/plain": [
       "<Figure size 432x288 with 1 Axes>"
      ]
     },
     "metadata": {
      "needs_background": "light"
     },
     "output_type": "display_data"
    }
   ],
   "source": [
    "cosi = np.cos(np.deg2rad(incl))\n",
    "cosi_err = np.abs(np.sin(np.deg2rad(incl)) * np.deg2rad(ierr))\n",
    "plt.errorbar(years, cosi, yerr=cosi_err,\n",
    "            linestyle='none', marker='o')\n",
    "plt.ylabel('cos i')\n",
    "plt.scatter(years, -np.cos(np.deg2rad(incl)), c='C3')\n",
    "\n",
    "tt = np.arange(1897, 2020)\n",
    "# just make up some values to guess & draw a curve, but we know it's ~631yrs\n",
    "# p0 = [2.3, 2.3, 1961., 631.]\n",
    "p0 = [.02, .6, 1961 + (631.*0.75), 631.]\n",
    "print(p0)\n",
    "plt.plot(tt, Pmodel(tt, *p0), lw=2) \n",
    "tfuture = np.arange(1800,2200)\n",
    "plt.plot(tfuture, Pmodel(tfuture, *p0), c='C4', linestyle='--', alpha=0.5) "
   ]
  },
  {
   "cell_type": "code",
   "execution_count": 14,
   "metadata": {},
   "outputs": [
    {
     "data": {
      "text/plain": [
       "[<matplotlib.lines.Line2D at 0x7f9e2b97ab80>]"
      ]
     },
     "execution_count": 14,
     "metadata": {},
     "output_type": "execute_result"
    },
    {
     "data": {
      "image/png": "[encoded data removed]",
      "text/plain": [
       "<Figure size 432x288 with 1 Axes>"
      ]
     },
     "metadata": {
      "needs_background": "light"
     },
     "output_type": "display_data"
    }
   ],
   "source": [
    "neg = np.where((years < 1961))[0]\n",
    "cosi[neg] = -1*cosi[neg]\n",
    "\n",
    "plt.errorbar(years, cosi, yerr=cosi_err,\n",
    "            linestyle='none', marker='o')\n",
    "plt.ylabel('cos i')\n",
    "\n",
    "plt.plot(tt, Pmodel(tt, *p0)) "
   ]
  },
  {
   "cell_type": "code",
   "execution_count": 15,
   "metadata": {},
   "outputs": [
    {
     "data": {
      "image/png": "[encoded data removed]",
      "text/plain": [
       "<Figure size 504x360 with 1 Axes>"
      ]
     },
     "metadata": {
      "needs_background": "light"
     },
     "output_type": "display_data"
    }
   ],
   "source": [
    "# the simple linear inclination change model - a system slowly tumbling \n",
    "\n",
    "plt.figure(figsize=(7,5))\n",
    "plt.errorbar(years, np.rad2deg(np.arccos(cosi)), yerr=ierr, marker='o', linestyle='none', c='k')\n",
    "\n",
    "ff0 = np.polyfit(years, np.rad2deg(np.arccos(cosi)), 1)\n",
    "ff = np.polyfit(years, np.rad2deg(np.arccos(cosi)), 1, w=1/ierr,)\n",
    "\n",
    "yrs = np.arange(1895, 2026)\n",
    "plt.plot(yrs, np.polyval(ff, yrs),c='C3')\n",
    "plt.plot(yrs, np.polyval(ff0, yrs),c='C3', linestyle='--')\n",
    "\n",
    "\n",
    "# plt.plot([years.min(),years.max()], [np.rad2deg(b['crit_inc']), np.rad2deg(b['crit_inc'])], linestyle='--')\n",
    "# plt.plot([years.min(),years.max()], [90+(90-np.rad2deg(b['crit_inc'])), 90+(90-np.rad2deg(b['crit_inc']))], linestyle='--')\n",
    "\n",
    "plt.ylabel('incl (deg)')\n",
    "\n",
    "plt.grid(True)\n",
    "# plt.savefig('approx_incl_LS.pdf', dpi=150, bbox_inches='tight', pad_inches=0.25)\n"
   ]
  },
  {
   "cell_type": "code",
   "execution_count": 16,
   "metadata": {},
   "outputs": [
    {
     "name": "stdout",
     "output_type": "stream",
     "text": [
      "-0.3007324584428455 deg / yr\n",
      "1197.077302077848 yrs to tumble 360deg\n",
      "1896.7422241134846 start\n",
      "2021.0999869508073 end\n",
      "2196.0115496329463 start again\n"
     ]
    }
   ],
   "source": [
    "print(ff[0], 'deg / yr') # the slope in deg per year\n",
    "print(np.abs(360/ff[0]), 'yrs to tumble 360deg') # the number of years to do a full tumble (360deg)\n",
    "\n",
    "print((90+(90-np.rad2deg(b['crit_inc'])) - ff[1]) / ff[0], 'start') # when did the eclipses likely start?\n",
    "print((np.rad2deg(b['crit_inc']) - ff[1]) / ff[0], 'end') # when do the eclipses likely end?\n",
    "\n",
    "# approx when will it eclipse again? (half a tumble cycle)\n",
    "print(((90-np.rad2deg(b['crit_inc'])) - ff[1])/ff[0], 'start again')"
   ]
  },
  {
   "cell_type": "code",
   "execution_count": 17,
   "metadata": {},
   "outputs": [
    {
     "data": {
      "text/plain": [
       "'2021-02-06T11:53:08.481'"
      ]
     },
     "execution_count": 17,
     "metadata": {},
     "output_type": "execute_result"
    }
   ],
   "source": [
    "Time((np.rad2deg(b['crit_inc']) - ff[1]) / ff[0], format='decimalyear').to_value('fits')"
   ]
  },
  {
   "cell_type": "code",
   "execution_count": null,
   "metadata": {},
   "outputs": [],
   "source": []
  },
  {
   "cell_type": "code",
   "execution_count": null,
   "metadata": {},
   "outputs": [],
   "source": []
  },
  {
   "cell_type": "code",
   "execution_count": 18,
   "metadata": {},
   "outputs": [
    {
     "name": "stdout",
     "output_type": "stream",
     "text": [
      "[-1.00000000e-01  8.46827830e-01  2.67111764e+03  9.73555671e+02]\n",
      "[8.32163232e-01 1.47176631e+00 1.02593933e+03 1.56284378e+03]\n",
      "973.555670599204 1562.8437779463736\n"
     ]
    }
   ],
   "source": [
    "fit, cov = curve_fit(Pmodel, years, cosi, sigma=cosi_err, p0=p0,\n",
    "                     maxfev=10000, bounds = ([-0.1, -1, 1000, 400], [0.1, 1, 3000, 1800]))\n",
    "\n",
    "print(fit)\n",
    "print(np.sqrt(np.diag(cov)))\n",
    "\n",
    "print(fit[3], np.sqrt(np.diag(cov))[3]) # the nodal period from this... \"fit\"\n",
    "\n",
    "# plt.errorbar(years, cosi, yerr=cosi_err,\n",
    "#             linestyle='none', marker='o')\n",
    "# plt.plot(tt, Pmodel(tt, *fit), c='C3') \n",
    "# plt.ylabel('cos i');"
   ]
  },
  {
   "cell_type": "code",
   "execution_count": 19,
   "metadata": {},
   "outputs": [
    {
     "data": {
      "text/plain": [
       "Text(0, 0.5, 'cos i')"
      ]
     },
     "execution_count": 19,
     "metadata": {},
     "output_type": "execute_result"
    },
    {
     "data": {
      "image/png": "[encoded data removed]",
      "text/plain": [
       "<Figure size 576x360 with 1 Axes>"
      ]
     },
     "metadata": {
      "needs_background": "light"
     },
     "output_type": "display_data"
    }
   ],
   "source": [
    "tfuture = np.arange(1500,2500)\n",
    "plt.figure(figsize=(8,5))\n",
    "plt.errorbar(years, cosi, yerr=cosi_err,\n",
    "            linestyle='none', marker='o', color='k')\n",
    "\n",
    "# plt.plot(tfuture, Pmodel(tfuture, *p0), c='C1', alpha=0.5, label='init, P$_{nodal}$=631yr') \n",
    "plt.plot(tfuture, Pmodel(tfuture, *fit), c='C0', label='P$_{nodal}$='+str(int(fit[3]))+'yr') \n",
    "plt.plot(tfuture, np.cos(np.deg2rad(np.polyval(ff, tfuture))), c='C3', \n",
    "         label='P$_{tumble}$='+str(int(np.abs(360/ff[0])))+'yr')\n",
    "plt.legend(fontsize=12)\n",
    "plt.ylabel('cos i')\n"
   ]
  },
  {
   "cell_type": "code",
   "execution_count": 20,
   "metadata": {},
   "outputs": [
    {
     "name": "stdout",
     "output_type": "stream",
     "text": [
      "Maximum likelihood estimates:\n",
      "m = -0.301\n",
      "b = 680.460\n",
      "f = 0.000\n"
     ]
    }
   ],
   "source": [
    "# MLE\n",
    "def log_likelihood(theta, x, y, yerr):\n",
    "    m, b, log_f = theta\n",
    "    model = m * x + b\n",
    "    sigma2 = yerr ** 2 + model ** 2 * np.exp(2 * log_f)\n",
    "    return -0.5 * np.sum((y - model) ** 2 / sigma2 + np.log(sigma2))\n",
    "\n",
    "from scipy.optimize import minimize\n",
    "\n",
    "np.random.seed(1983)\n",
    "nll = lambda *args: -log_likelihood(*args)\n",
    "initial = np.array(np.append(ff, -2.)) + 0.01 * np.random.randn(3)\n",
    "soln = minimize(nll, initial, args=(years, np.rad2deg(np.arccos(cosi)), ierr))\n",
    "m_ml, b_ml, log_f_ml = soln.x\n",
    "\n",
    "print(\"Maximum likelihood estimates:\")\n",
    "print(\"m = {0:.3f}\".format(m_ml))\n",
    "print(\"b = {0:.3f}\".format(b_ml))\n",
    "print(\"f = {0:.3f}\".format(np.exp(log_f_ml)))"
   ]
  },
  {
   "cell_type": "code",
   "execution_count": 21,
   "metadata": {},
   "outputs": [],
   "source": [
    "# try fitting straight line w/ MCMC\n",
    "# https://emcee.readthedocs.io/en/stable/tutorials/line/\n",
    "\n",
    "def log_prior(theta):\n",
    "    m, b, log_f = theta\n",
    "    if -5.0 < m < 0 and 0.0 < b < 1000 and -10.0 < log_f < 1.0:\n",
    "        return 0.0\n",
    "    return -np.inf\n",
    "\n",
    "def log_likelihood(theta, x, y, yerr):\n",
    "    m, b, log_f = theta\n",
    "    model = m * x + b\n",
    "    sigma2 = yerr ** 2 + model ** 2 * np.exp(2 * log_f)\n",
    "    return -0.5 * np.sum((y - model) ** 2 / sigma2 + np.log(sigma2))\n",
    "\n",
    "def log_probability(theta, x, y, yerr):\n",
    "    lp = log_prior(theta)\n",
    "    if not np.isfinite(lp):\n",
    "        return -np.inf\n",
    "    return lp + log_likelihood(theta, x, y, yerr)"
   ]
  },
  {
   "cell_type": "code",
   "execution_count": 22,
   "metadata": {},
   "outputs": [
    {
     "data": {
      "text/plain": [
       "array([-3.01416005e-01,  6.80460085e+02, -1.51812957e+01])"
      ]
     },
     "execution_count": 22,
     "metadata": {},
     "output_type": "execute_result"
    }
   ],
   "source": [
    "soln.x"
   ]
  },
  {
   "cell_type": "code",
   "execution_count": 24,
   "metadata": {},
   "outputs": [],
   "source": [
    "import emcee\n",
    "\n",
    "# add extra dimension for additional variance, per emcee docs\n",
    "pos = np.append(ff, 0.) + 1e-4 * np.random.randn(32, 3)\n",
    "nwalkers, ndim = pos.shape"
   ]
  },
  {
   "cell_type": "code",
   "execution_count": 25,
   "metadata": {},
   "outputs": [
    {
     "name": "stderr",
     "output_type": "stream",
     "text": [
      "100%|██████████| 10000/10000 [00:07<00:00, 1336.98it/s]\n"
     ]
    }
   ],
   "source": [
    "sampler = emcee.EnsembleSampler(nwalkers, ndim, log_probability, \n",
    "                                args=(years[2:], np.rad2deg(np.arccos(cosi))[2:], ierr[2:]))\n",
    "sampler.run_mcmc(pos, 10000, progress=True);"
   ]
  },
  {
   "cell_type": "code",
   "execution_count": 26,
   "metadata": {},
   "outputs": [
    {
     "name": "stdout",
     "output_type": "stream",
     "text": [
      "[ 80.29058331  81.78353488 108.18561339]\n"
     ]
    }
   ],
   "source": [
    "tau = sampler.get_autocorr_time()\n",
    "print(tau)"
   ]
  },
  {
   "cell_type": "code",
   "execution_count": 27,
   "metadata": {},
   "outputs": [
    {
     "name": "stdout",
     "output_type": "stream",
     "text": [
      "(19200, 3)\n"
     ]
    }
   ],
   "source": [
    "samples = sampler.get_chain()\n",
    "flat_samples = sampler.get_chain(discard=1000, thin=15, flat=True)\n",
    "print(flat_samples.shape)"
   ]
  },
  {
   "cell_type": "code",
   "execution_count": 28,
   "metadata": {},
   "outputs": [
    {
     "data": {
      "image/png": "[encoded data removed]",
      "text/plain": [
       "<Figure size 432x288 with 1 Axes>"
      ]
     },
     "metadata": {
      "needs_background": "light"
     },
     "output_type": "display_data"
    }
   ],
   "source": [
    "inds = np.random.randint(len(flat_samples), size=100)\n",
    "for ind in inds:\n",
    "    sample = flat_samples[ind]\n",
    "    plt.plot(yrs, np.dot(np.vander(yrs, 2), sample[:2]), \"C3\", alpha=0.1)\n",
    "\n",
    "plt.errorbar(years, np.rad2deg(np.arccos(cosi)), yerr=ierr, fmt=\"ok\", capsize=0)\n",
    "plt.plot(yrs, np.polyval(ff, yrs),c='C0')\n",
    "plt.ylabel('incl (deg)')\n",
    "\n",
    "plt.grid(True)\n"
   ]
  },
  {
   "cell_type": "code",
   "execution_count": 29,
   "metadata": {},
   "outputs": [
    {
     "name": "stdout",
     "output_type": "stream",
     "text": [
      "(-0.30116321840586313, 0.004623380539759914, 0.0035312040324206873) deg / yr\n",
      "(1195.3650977229836, 18.073479126555867, 14.182204363785559) yrs to tumble 360deg\n",
      "(1896.9026021423101, 1.0181434503883793, 1.3401920331250494) start\n",
      "(2021.121026874073, 0.5401016368634828, 0.5336726473549334) end\n",
      "(2195.76712398526, 3.1571620831809923, 2.570730618987909) start again\n"
     ]
    }
   ],
   "source": [
    "def therng(thething, rng=[15,50,84]):\n",
    "    pcent = np.percentile(thething, rng)\n",
    "    q = np.diff(pcent)\n",
    "    return pcent[1], q[0], q[1]\n",
    "\n",
    "print(therng(flat_samples[:,0]), 'deg / yr') # the slope in deg per year\n",
    "# the number of years to do a full tumble (360deg)\n",
    "print(therng(np.abs(360/flat_samples[:,0])), 'yrs to tumble 360deg') \n",
    "\n",
    "# when did the eclipses likely start?\n",
    "print(therng((90+(90-np.rad2deg(b['crit_inc'])) - flat_samples[:,1]) / flat_samples[:,0]), 'start') \n",
    "# when do the eclipses likely end?\n",
    "print(therng((np.rad2deg(b['crit_inc']) - flat_samples[:,1]) / flat_samples[:,0]), 'end') \n",
    "\n",
    "# approx when will it eclipse again? (half a tumble cycle)\n",
    "print(therng(((90-np.rad2deg(b['crit_inc'])) - flat_samples[:,1])/flat_samples[:,0]), 'start again')"
   ]
  },
  {
   "cell_type": "code",
   "execution_count": 30,
   "metadata": {},
   "outputs": [
    {
     "data": {
      "text/plain": [
       "array([-3.00732458e-01,  6.79111160e+02])"
      ]
     },
     "execution_count": 30,
     "metadata": {},
     "output_type": "execute_result"
    }
   ],
   "source": [
    "ff"
   ]
  },
  {
   "cell_type": "code",
   "execution_count": 31,
   "metadata": {},
   "outputs": [
    {
     "data": {
      "text/plain": [
       "array([-3.01416005e-01,  6.80460085e+02, -1.51812957e+01])"
      ]
     },
     "execution_count": 31,
     "metadata": {},
     "output_type": "execute_result"
    }
   ],
   "source": [
    "soln.x"
   ]
  },
  {
   "cell_type": "code",
   "execution_count": 32,
   "metadata": {},
   "outputs": [
    {
     "data": {
      "text/plain": [
       "array([-3.01163218e-01,  6.79985762e+02, -7.69975199e+00])"
      ]
     },
     "execution_count": 32,
     "metadata": {},
     "output_type": "execute_result"
    }
   ],
   "source": [
    "np.median(flat_samples, axis=0)"
   ]
  },
  {
   "cell_type": "code",
   "execution_count": 33,
   "metadata": {},
   "outputs": [
    {
     "data": {
      "text/plain": [
       "0.937959102387432"
      ]
     },
     "execution_count": 33,
     "metadata": {},
     "output_type": "execute_result"
    }
   ],
   "source": [
    "chisq_mcmc = np.zeros(len(flat_samples[:,0]))\n",
    "for k in range(len(flat_samples[:,0])):\n",
    "    chisq_mcmc[k] = np.sum(((np.rad2deg(np.arccos(cosi)) - (years * flat_samples[k,0] + flat_samples[k,1])) / ierr) **2) / incl.size\n",
    "\n",
    "min(chisq_mcmc)"
   ]
  },
  {
   "cell_type": "code",
   "execution_count": 34,
   "metadata": {},
   "outputs": [
    {
     "data": {
      "text/plain": [
       "array([-3.00774106e-01,  6.79193433e+02, -9.97473996e+00])"
      ]
     },
     "execution_count": 34,
     "metadata": {},
     "output_type": "execute_result"
    }
   ],
   "source": [
    "best = np.argmin(chisq_mcmc)\n",
    "flat_samples[best,:]"
   ]
  },
  {
   "cell_type": "code",
   "execution_count": 35,
   "metadata": {},
   "outputs": [
    {
     "data": {
      "text/plain": [
       "0.937941627638536"
      ]
     },
     "execution_count": 35,
     "metadata": {},
     "output_type": "execute_result"
    }
   ],
   "source": [
    "np.sum(((np.rad2deg(np.arccos(cosi)) - (years * ff[0] + ff[1])) / ierr) **2) / incl.size\n"
   ]
  },
  {
   "cell_type": "code",
   "execution_count": 36,
   "metadata": {},
   "outputs": [
    {
     "data": {
      "image/png": "[encoded data removed]",
      "text/plain": [
       "<Figure size 504x360 with 1 Axes>"
      ]
     },
     "metadata": {
      "needs_background": "light"
     },
     "output_type": "display_data"
    }
   ],
   "source": [
    "plt.figure(figsize=(7,5))\n",
    "plt.errorbar(years, incl, yerr=ierr, marker='+', linestyle='none',  c='grey')\n",
    "plt.errorbar(years, np.rad2deg(np.arccos(cosi)), yerr=ierr, fmt=\"ok\", capsize=0, markersize=10)\n",
    "\n",
    "inds = np.random.randint(len(flat_samples), size=100)\n",
    "for ind in inds:\n",
    "    sample = flat_samples[ind]\n",
    "    plt.plot(yrs, np.dot(np.vander(yrs, 2), sample[:2]), \"C3\", alpha=0.1)\n",
    "\n",
    "plt.ylabel('incl (deg)')\n",
    "\n",
    "plt.grid(True)\n",
    "# plt.savefig('mcmc_incl.pdf', dpi=150, bbox_inches='tight', pad_inches=0.25)\n",
    "# plt.savefig('fig5.pdf', dpi=150, bbox_inches='tight', pad_inches=0.25)"
   ]
  },
  {
   "cell_type": "code",
   "execution_count": 39,
   "metadata": {},
   "outputs": [
    {
     "data": {
      "text/plain": [
       "array([74.64685773, 73.6089842 , 80.8866007 , 82.18477826, 83.49697847,\n",
       "       83.98558644, 86.01643353, 80.08034502, 77.6967624 , 76.45718091,\n",
       "       76.95493623, 75.09996977, 71.8626054 , 88.9       ])"
      ]
     },
     "execution_count": 39,
     "metadata": {},
     "output_type": "execute_result"
    }
   ],
   "source": [
    "incl"
   ]
  },
  {
   "cell_type": "code",
   "execution_count": 41,
   "metadata": {},
   "outputs": [],
   "source": [
    "# Data behind Figure (DbF) dump for AAS Journals\n",
    "\n",
    "df_out = pd.DataFrame(data={'year':years,\n",
    "                            'i':incl,\n",
    "                            'i_err':ierr\n",
    "                           })\n",
    "df_out.to_csv('fig5_data.csv',index=False)"
   ]
  },
  {
   "cell_type": "code",
   "execution_count": 35,
   "metadata": {},
   "outputs": [
    {
     "data": {
      "text/plain": [
       "array([1904.94091894, 1916.97932755, 1932.93737523, 1941.41312124,\n",
       "       1943.99290586, 1947.44868927, 1972.16494434, 1991.55880986,\n",
       "       2001.11837748, 2003.78460537, 2005.94881192, 2008.24635954,\n",
       "       2019.19398799, 1964.        ])"
      ]
     },
     "execution_count": 35,
     "metadata": {},
     "output_type": "execute_result"
    }
   ],
   "source": [
    "years"
   ]
  },
  {
   "cell_type": "code",
   "execution_count": null,
   "metadata": {},
   "outputs": [],
   "source": []
  }
 ],
 "metadata": {
  "kernelspec": {
   "display_name": "Python 3",
   "language": "python",
   "name": "python3"
  },
  "language_info": {
   "codemirror_mode": {
    "name": "ipython",
    "version": 3
   },
   "file_extension": ".py",
   "mimetype": "text/x-python",
   "name": "python",
   "nbconvert_exporter": "python",
   "pygments_lexer": "ipython3",
   "version": "3.8.5"
  }
 },
 "nbformat": 4,
 "nbformat_minor": 4
}
